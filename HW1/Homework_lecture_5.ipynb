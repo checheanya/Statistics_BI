{
  "nbformat": 4,
  "nbformat_minor": 0,
  "metadata": {
    "colab": {
      "provenance": [],
      "collapsed_sections": []
    },
    "kernelspec": {
      "name": "python3",
      "display_name": "Python 3"
    },
    "language_info": {
      "name": "python"
    }
  },
  "cells": [
    {
      "cell_type": "markdown",
      "source": [
        "Всем привет! Пришло время нашей первой домашней работы не на степике. Надеюсь, будет весело :)\n",
        "\n",
        "Так как, `pandas` вы еще не проходили, то я вам немного помогу. Эту домашку можно делать как в питоне, так и в R, само задание будет написано в `Google Colaboratory`."
      ],
      "metadata": {
        "id": "_d7wDz2eSo0i"
      }
    },
    {
      "cell_type": "code",
      "execution_count": null,
      "metadata": {
        "id": "OLE-TC4eN1HP"
      },
      "outputs": [],
      "source": [
        "# Pandas понадобится нам для чтения денных\n",
        "import pandas as pd\n",
        "import seaborn as sns\n",
        "import matplotlib.pyplot as plt\n",
        "import numpy as np"
      ]
    },
    {
      "cell_type": "code",
      "source": [
        "!git clone https://github.com/danon6868/BI-stat-course/"
      ],
      "metadata": {
        "id": "PSlzWk9Hr_xw",
        "outputId": "dbed75a6-7453-46dc-b66d-add57cf0f016",
        "colab": {
          "base_uri": "https://localhost:8080/"
        }
      },
      "execution_count": null,
      "outputs": [
        {
          "output_type": "stream",
          "name": "stdout",
          "text": [
            "Cloning into 'BI-stat-course'...\n",
            "remote: Enumerating objects: 43, done.\u001b[K\n",
            "remote: Counting objects: 100% (19/19), done.\u001b[K\n",
            "remote: Compressing objects: 100% (18/18), done.\u001b[K\n",
            "remote: Total 43 (delta 5), reused 3 (delta 0), pack-reused 24\u001b[K\n",
            "Unpacking objects: 100% (43/43), done.\n"
          ]
        }
      ]
    },
    {
      "cell_type": "code",
      "source": [
        "!unzip ./BI-stat-course/lecture_5_hypothesis_testing/homework/data/homework_lecture_5_data.zip"
      ],
      "metadata": {
        "id": "nJcwQVq2qadd",
        "outputId": "5ea5ea9e-194b-4c92-adc5-85c56b84d9e1",
        "colab": {
          "base_uri": "https://localhost:8080/"
        }
      },
      "execution_count": null,
      "outputs": [
        {
          "output_type": "stream",
          "name": "stdout",
          "text": [
            "Archive:  ./BI-stat-course/lecture_5_hypothesis_testing/homework/data/homework_lecture_5_data.zip\n",
            "  inflating: homework_lecture_5_data.csv  \n"
          ]
        }
      ]
    },
    {
      "cell_type": "code",
      "source": [
        "# В переменную data_path надо положить путь до данных\n",
        "data_path = \"./\"\n",
        "expression_data = pd.read_csv(f\"{data_path}/homework_lecture_5_data.csv\", index_col=0)\n",
        "expression_data.head()"
      ],
      "metadata": {
        "colab": {
          "base_uri": "https://localhost:8080/",
          "height": 299
        },
        "id": "OQxt1TdvN_mT",
        "outputId": "9f9d4d7b-c1e1-4e99-95c6-a231d95751db"
      },
      "execution_count": null,
      "outputs": [
        {
          "output_type": "execute_result",
          "data": {
            "text/plain": [
              "       TMCC1     RANBP3    GABRG3    ARRDC5       LRP3      TIMM23      TBPL1  \\\n",
              "0  33.888550  38.384340  0.044721  1.385159  11.341853  105.193306  26.463990   \n",
              "1  16.497124  35.054090  0.314645  4.329797   8.649321   50.577618  16.684614   \n",
              "2   5.449933  31.783958  0.002949  2.137536   1.750892  109.201050  35.265984   \n",
              "3  33.362240  56.147026  0.037295  1.604904   6.807299  100.141620  25.446817   \n",
              "4  50.188510  30.165264  0.039678  1.501439   1.619954   46.916790  28.053373   \n",
              "\n",
              "      BIRC8     TTC28   C19orf66  ...     MAGEA6       IL4I1     LCN12  \\\n",
              "0  0.000000  1.537873  27.645407  ...  21.332443    1.397932  0.000000   \n",
              "1  0.000000  1.796609  13.715611  ...   1.199440  159.147130  0.259244   \n",
              "2  0.011501  0.878889  19.361662  ...   0.002924   25.256378  0.000000   \n",
              "3  0.000000  2.502661  12.745437  ...   0.000000   14.509516  0.063003   \n",
              "4  0.018181  1.165164  30.318027  ...   0.033807   93.681190  0.031816   \n",
              "\n",
              "        SMG6  C1orf100      WDR75    ZBTB26    SPTY2D1    PLEKHA2  Cell_type  \n",
              "0  23.136585  0.001902  60.218548  6.307399   9.577274  44.026940     B_cell  \n",
              "1  18.986986  0.310971  25.818224  4.193348  14.181196  35.779896     B_cell  \n",
              "2  32.941895  0.000000  99.555990  8.323141  29.321960  30.816538     B_cell  \n",
              "3  19.036896  0.000000  49.394980  4.655794  17.683067  47.143270     B_cell  \n",
              "4  19.094831  0.000000  20.201437  6.935232  20.769829  53.935143     B_cell  \n",
              "\n",
              "[5 rows x 18793 columns]"
            ],
            "text/html": [
              "\n",
              "  <div id=\"df-7df00365-7a83-4faa-a234-f38f8dab49d6\">\n",
              "    <div class=\"colab-df-container\">\n",
              "      <div>\n",
              "<style scoped>\n",
              "    .dataframe tbody tr th:only-of-type {\n",
              "        vertical-align: middle;\n",
              "    }\n",
              "\n",
              "    .dataframe tbody tr th {\n",
              "        vertical-align: top;\n",
              "    }\n",
              "\n",
              "    .dataframe thead th {\n",
              "        text-align: right;\n",
              "    }\n",
              "</style>\n",
              "<table border=\"1\" class=\"dataframe\">\n",
              "  <thead>\n",
              "    <tr style=\"text-align: right;\">\n",
              "      <th></th>\n",
              "      <th>TMCC1</th>\n",
              "      <th>RANBP3</th>\n",
              "      <th>GABRG3</th>\n",
              "      <th>ARRDC5</th>\n",
              "      <th>LRP3</th>\n",
              "      <th>TIMM23</th>\n",
              "      <th>TBPL1</th>\n",
              "      <th>BIRC8</th>\n",
              "      <th>TTC28</th>\n",
              "      <th>C19orf66</th>\n",
              "      <th>...</th>\n",
              "      <th>MAGEA6</th>\n",
              "      <th>IL4I1</th>\n",
              "      <th>LCN12</th>\n",
              "      <th>SMG6</th>\n",
              "      <th>C1orf100</th>\n",
              "      <th>WDR75</th>\n",
              "      <th>ZBTB26</th>\n",
              "      <th>SPTY2D1</th>\n",
              "      <th>PLEKHA2</th>\n",
              "      <th>Cell_type</th>\n",
              "    </tr>\n",
              "  </thead>\n",
              "  <tbody>\n",
              "    <tr>\n",
              "      <th>0</th>\n",
              "      <td>33.888550</td>\n",
              "      <td>38.384340</td>\n",
              "      <td>0.044721</td>\n",
              "      <td>1.385159</td>\n",
              "      <td>11.341853</td>\n",
              "      <td>105.193306</td>\n",
              "      <td>26.463990</td>\n",
              "      <td>0.000000</td>\n",
              "      <td>1.537873</td>\n",
              "      <td>27.645407</td>\n",
              "      <td>...</td>\n",
              "      <td>21.332443</td>\n",
              "      <td>1.397932</td>\n",
              "      <td>0.000000</td>\n",
              "      <td>23.136585</td>\n",
              "      <td>0.001902</td>\n",
              "      <td>60.218548</td>\n",
              "      <td>6.307399</td>\n",
              "      <td>9.577274</td>\n",
              "      <td>44.026940</td>\n",
              "      <td>B_cell</td>\n",
              "    </tr>\n",
              "    <tr>\n",
              "      <th>1</th>\n",
              "      <td>16.497124</td>\n",
              "      <td>35.054090</td>\n",
              "      <td>0.314645</td>\n",
              "      <td>4.329797</td>\n",
              "      <td>8.649321</td>\n",
              "      <td>50.577618</td>\n",
              "      <td>16.684614</td>\n",
              "      <td>0.000000</td>\n",
              "      <td>1.796609</td>\n",
              "      <td>13.715611</td>\n",
              "      <td>...</td>\n",
              "      <td>1.199440</td>\n",
              "      <td>159.147130</td>\n",
              "      <td>0.259244</td>\n",
              "      <td>18.986986</td>\n",
              "      <td>0.310971</td>\n",
              "      <td>25.818224</td>\n",
              "      <td>4.193348</td>\n",
              "      <td>14.181196</td>\n",
              "      <td>35.779896</td>\n",
              "      <td>B_cell</td>\n",
              "    </tr>\n",
              "    <tr>\n",
              "      <th>2</th>\n",
              "      <td>5.449933</td>\n",
              "      <td>31.783958</td>\n",
              "      <td>0.002949</td>\n",
              "      <td>2.137536</td>\n",
              "      <td>1.750892</td>\n",
              "      <td>109.201050</td>\n",
              "      <td>35.265984</td>\n",
              "      <td>0.011501</td>\n",
              "      <td>0.878889</td>\n",
              "      <td>19.361662</td>\n",
              "      <td>...</td>\n",
              "      <td>0.002924</td>\n",
              "      <td>25.256378</td>\n",
              "      <td>0.000000</td>\n",
              "      <td>32.941895</td>\n",
              "      <td>0.000000</td>\n",
              "      <td>99.555990</td>\n",
              "      <td>8.323141</td>\n",
              "      <td>29.321960</td>\n",
              "      <td>30.816538</td>\n",
              "      <td>B_cell</td>\n",
              "    </tr>\n",
              "    <tr>\n",
              "      <th>3</th>\n",
              "      <td>33.362240</td>\n",
              "      <td>56.147026</td>\n",
              "      <td>0.037295</td>\n",
              "      <td>1.604904</td>\n",
              "      <td>6.807299</td>\n",
              "      <td>100.141620</td>\n",
              "      <td>25.446817</td>\n",
              "      <td>0.000000</td>\n",
              "      <td>2.502661</td>\n",
              "      <td>12.745437</td>\n",
              "      <td>...</td>\n",
              "      <td>0.000000</td>\n",
              "      <td>14.509516</td>\n",
              "      <td>0.063003</td>\n",
              "      <td>19.036896</td>\n",
              "      <td>0.000000</td>\n",
              "      <td>49.394980</td>\n",
              "      <td>4.655794</td>\n",
              "      <td>17.683067</td>\n",
              "      <td>47.143270</td>\n",
              "      <td>B_cell</td>\n",
              "    </tr>\n",
              "    <tr>\n",
              "      <th>4</th>\n",
              "      <td>50.188510</td>\n",
              "      <td>30.165264</td>\n",
              "      <td>0.039678</td>\n",
              "      <td>1.501439</td>\n",
              "      <td>1.619954</td>\n",
              "      <td>46.916790</td>\n",
              "      <td>28.053373</td>\n",
              "      <td>0.018181</td>\n",
              "      <td>1.165164</td>\n",
              "      <td>30.318027</td>\n",
              "      <td>...</td>\n",
              "      <td>0.033807</td>\n",
              "      <td>93.681190</td>\n",
              "      <td>0.031816</td>\n",
              "      <td>19.094831</td>\n",
              "      <td>0.000000</td>\n",
              "      <td>20.201437</td>\n",
              "      <td>6.935232</td>\n",
              "      <td>20.769829</td>\n",
              "      <td>53.935143</td>\n",
              "      <td>B_cell</td>\n",
              "    </tr>\n",
              "  </tbody>\n",
              "</table>\n",
              "<p>5 rows × 18793 columns</p>\n",
              "</div>\n",
              "      <button class=\"colab-df-convert\" onclick=\"convertToInteractive('df-7df00365-7a83-4faa-a234-f38f8dab49d6')\"\n",
              "              title=\"Convert this dataframe to an interactive table.\"\n",
              "              style=\"display:none;\">\n",
              "        \n",
              "  <svg xmlns=\"http://www.w3.org/2000/svg\" height=\"24px\"viewBox=\"0 0 24 24\"\n",
              "       width=\"24px\">\n",
              "    <path d=\"M0 0h24v24H0V0z\" fill=\"none\"/>\n",
              "    <path d=\"M18.56 5.44l.94 2.06.94-2.06 2.06-.94-2.06-.94-.94-2.06-.94 2.06-2.06.94zm-11 1L8.5 8.5l.94-2.06 2.06-.94-2.06-.94L8.5 2.5l-.94 2.06-2.06.94zm10 10l.94 2.06.94-2.06 2.06-.94-2.06-.94-.94-2.06-.94 2.06-2.06.94z\"/><path d=\"M17.41 7.96l-1.37-1.37c-.4-.4-.92-.59-1.43-.59-.52 0-1.04.2-1.43.59L10.3 9.45l-7.72 7.72c-.78.78-.78 2.05 0 2.83L4 21.41c.39.39.9.59 1.41.59.51 0 1.02-.2 1.41-.59l7.78-7.78 2.81-2.81c.8-.78.8-2.07 0-2.86zM5.41 20L4 18.59l7.72-7.72 1.47 1.35L5.41 20z\"/>\n",
              "  </svg>\n",
              "      </button>\n",
              "      \n",
              "  <style>\n",
              "    .colab-df-container {\n",
              "      display:flex;\n",
              "      flex-wrap:wrap;\n",
              "      gap: 12px;\n",
              "    }\n",
              "\n",
              "    .colab-df-convert {\n",
              "      background-color: #E8F0FE;\n",
              "      border: none;\n",
              "      border-radius: 50%;\n",
              "      cursor: pointer;\n",
              "      display: none;\n",
              "      fill: #1967D2;\n",
              "      height: 32px;\n",
              "      padding: 0 0 0 0;\n",
              "      width: 32px;\n",
              "    }\n",
              "\n",
              "    .colab-df-convert:hover {\n",
              "      background-color: #E2EBFA;\n",
              "      box-shadow: 0px 1px 2px rgba(60, 64, 67, 0.3), 0px 1px 3px 1px rgba(60, 64, 67, 0.15);\n",
              "      fill: #174EA6;\n",
              "    }\n",
              "\n",
              "    [theme=dark] .colab-df-convert {\n",
              "      background-color: #3B4455;\n",
              "      fill: #D2E3FC;\n",
              "    }\n",
              "\n",
              "    [theme=dark] .colab-df-convert:hover {\n",
              "      background-color: #434B5C;\n",
              "      box-shadow: 0px 1px 3px 1px rgba(0, 0, 0, 0.15);\n",
              "      filter: drop-shadow(0px 1px 2px rgba(0, 0, 0, 0.3));\n",
              "      fill: #FFFFFF;\n",
              "    }\n",
              "  </style>\n",
              "\n",
              "      <script>\n",
              "        const buttonEl =\n",
              "          document.querySelector('#df-7df00365-7a83-4faa-a234-f38f8dab49d6 button.colab-df-convert');\n",
              "        buttonEl.style.display =\n",
              "          google.colab.kernel.accessAllowed ? 'block' : 'none';\n",
              "\n",
              "        async function convertToInteractive(key) {\n",
              "          const element = document.querySelector('#df-7df00365-7a83-4faa-a234-f38f8dab49d6');\n",
              "          const dataTable =\n",
              "            await google.colab.kernel.invokeFunction('convertToInteractive',\n",
              "                                                     [key], {});\n",
              "          if (!dataTable) return;\n",
              "\n",
              "          const docLinkHtml = 'Like what you see? Visit the ' +\n",
              "            '<a target=\"_blank\" href=https://colab.research.google.com/notebooks/data_table.ipynb>data table notebook</a>'\n",
              "            + ' to learn more about interactive tables.';\n",
              "          element.innerHTML = '';\n",
              "          dataTable['output_type'] = 'display_data';\n",
              "          await google.colab.output.renderOutput(dataTable, element);\n",
              "          const docLink = document.createElement('div');\n",
              "          docLink.innerHTML = docLinkHtml;\n",
              "          element.appendChild(docLink);\n",
              "        }\n",
              "      </script>\n",
              "    </div>\n",
              "  </div>\n",
              "  "
            ]
          },
          "metadata": {},
          "execution_count": 5
        }
      ]
    },
    {
      "cell_type": "code",
      "source": [
        "expression_data.shape"
      ],
      "metadata": {
        "colab": {
          "base_uri": "https://localhost:8080/"
        },
        "id": "fZYuvIMam-r2",
        "outputId": "f211e44e-84cb-4797-c9b9-11e466b7cb4a"
      },
      "execution_count": null,
      "outputs": [
        {
          "output_type": "execute_result",
          "data": {
            "text/plain": [
              "(1000, 18793)"
            ]
          },
          "metadata": {},
          "execution_count": 6
        }
      ]
    },
    {
      "cell_type": "code",
      "source": [
        "b_cells_expression_data = expression_data.query(\"Cell_type == 'B_cell'\")\n",
        "nk_cells_expression_data = expression_data.query(\"Cell_type == 'NK_cell'\")"
      ],
      "metadata": {
        "id": "9k75ZGZyVBhu"
      },
      "execution_count": null,
      "outputs": []
    },
    {
      "cell_type": "code",
      "source": [
        "b_cells_expression_data.columns"
      ],
      "metadata": {
        "colab": {
          "base_uri": "https://localhost:8080/"
        },
        "id": "GQ7l-uOttJMz",
        "outputId": "ad23be61-ec6f-46ae-fedb-a8d47f5a7d28"
      },
      "execution_count": null,
      "outputs": [
        {
          "output_type": "execute_result",
          "data": {
            "text/plain": [
              "Index(['TMCC1', 'RANBP3', 'GABRG3', 'ARRDC5', 'LRP3', 'TIMM23', 'TBPL1',\n",
              "       'BIRC8', 'TTC28', 'C19orf66',\n",
              "       ...\n",
              "       'MAGEA6', 'IL4I1', 'LCN12', 'SMG6', 'C1orf100', 'WDR75', 'ZBTB26',\n",
              "       'SPTY2D1', 'PLEKHA2', 'Cell_type'],\n",
              "      dtype='object', length=18793)"
            ]
          },
          "metadata": {},
          "execution_count": 35
        }
      ]
    },
    {
      "cell_type": "markdown",
      "source": [
        "В обоих сабсетах у нас осталась колонка \"Cell type\", отрежем ее:"
      ],
      "metadata": {
        "id": "uOC3VMPBt3Db"
      }
    },
    {
      "cell_type": "code",
      "source": [
        "b_cells_expression_data = b_cells_expression_data.iloc[:, :-1]\n",
        "nk_cells_expression_data = nk_cells_expression_data.iloc[:, :-1]"
      ],
      "metadata": {
        "id": "rEnIfj4Zt2da"
      },
      "execution_count": null,
      "outputs": []
    },
    {
      "cell_type": "code",
      "source": [
        "b_cells_expression_data.columns"
      ],
      "metadata": {
        "colab": {
          "base_uri": "https://localhost:8080/"
        },
        "id": "Qji6hgcetJTU",
        "outputId": "42502b2f-f542-4997-a97f-e302622d306f"
      },
      "execution_count": null,
      "outputs": [
        {
          "output_type": "execute_result",
          "data": {
            "text/plain": [
              "Index(['TMCC1', 'RANBP3', 'GABRG3', 'ARRDC5', 'LRP3', 'TIMM23', 'TBPL1',\n",
              "       'BIRC8', 'TTC28', 'C19orf66',\n",
              "       ...\n",
              "       'CFAP221', 'MAGEA6', 'IL4I1', 'LCN12', 'SMG6', 'C1orf100', 'WDR75',\n",
              "       'ZBTB26', 'SPTY2D1', 'PLEKHA2'],\n",
              "      dtype='object', length=18792)"
            ]
          },
          "metadata": {},
          "execution_count": 37
        }
      ]
    },
    {
      "cell_type": "markdown",
      "source": [
        "В этом задании мы будем работать с данными об экспрессии генов в друх клеточных типах: в B-клетках и в NK-клетках. Выясним, средняя экспрессия каких генов значимо различается в этих клеточных типах."
      ],
      "metadata": {
        "id": "OAUclhJ3UC2p"
      }
    },
    {
      "cell_type": "markdown",
      "source": [
        "Я буду показывать примеры на одном гене, а на основе них вы сможете сделать похожие задачи для всех генов."
      ],
      "metadata": {
        "id": "crW-TliUUuye"
      }
    },
    {
      "cell_type": "code",
      "source": [
        "example_gene = \"TMCC1\""
      ],
      "metadata": {
        "id": "1o1vmOSoQMRy"
      },
      "execution_count": null,
      "outputs": []
    },
    {
      "cell_type": "markdown",
      "source": [
        "## Задание 1\n",
        "\n",
        "**2 баллов**"
      ],
      "metadata": {
        "id": "gFSq8BCiUb_m"
      }
    },
    {
      "cell_type": "markdown",
      "source": [
        "Посмотрим на распределение экспрессий гена `TMCC1` в обоих клеточных типах."
      ],
      "metadata": {
        "id": "419ztR7lVm_E"
      }
    },
    {
      "cell_type": "code",
      "source": [
        "sns.histplot(b_cells_expression_data[example_gene], stat=\"density\");"
      ],
      "metadata": {
        "colab": {
          "base_uri": "https://localhost:8080/",
          "height": 279
        },
        "id": "0ln2fQG2QMen",
        "outputId": "b5986bfa-4977-40e7-8ffe-8bd8abf2b0b0"
      },
      "execution_count": null,
      "outputs": [
        {
          "output_type": "display_data",
          "data": {
            "text/plain": [
              "<Figure size 432x288 with 1 Axes>"
            ],
            "image/png": "[encoded data removed]"
          },
          "metadata": {
            "needs_background": "light"
          }
        }
      ]
    },
    {
      "cell_type": "code",
      "source": [
        "sns.histplot(nk_cells_expression_data[example_gene], stat=\"density\");"
      ],
      "metadata": {
        "colab": {
          "base_uri": "https://localhost:8080/",
          "height": 281
        },
        "id": "pNdIdzpYQMpu",
        "outputId": "614774ee-d3cf-41b3-e8c1-68b7bb2a8546"
      },
      "execution_count": null,
      "outputs": [
        {
          "output_type": "display_data",
          "data": {
            "text/plain": [
              "<Figure size 432x288 with 1 Axes>"
            ],
            "image/png": "[encoded data removed]"
          },
          "metadata": {
            "needs_background": "light"
          }
        }
      ]
    },
    {
      "cell_type": "markdown",
      "source": [
        "Кажется, что они немного различаются. Для начала давайте попробуем еще раз проверить центральную предельную теорему.\n",
        "\n",
        "**Задание:**\n",
        "\n",
        "Напишите функцию, которая будет принимать на вход экспрессии гена, семплировать их них выборки размера `sample_size`, считать среднюю экспрессию и повторять это `n_samples` раз. Примените эту функцию к экспрессиям гена `TMCC1` в обоих клеточных типах, визуализируйте их. Отличаются ли средние экспрессии данного гена у этих клеточных типов?\n",
        " \n",
        "Сигнатура функции:\n",
        "\n",
        "```python\n",
        "def demonstrate_clt(expressions, sample_size, n_samples):\n",
        "    mean_expressions = []\n",
        "\n",
        "    return mean_expressions\n",
        "```"
      ],
      "metadata": {
        "id": "TvQPlK5zV77n"
      }
    },
    {
      "cell_type": "code",
      "source": [
        "np.random.seed(13)"
      ],
      "metadata": {
        "id": "3BJYKwLdZusW"
      },
      "execution_count": null,
      "outputs": []
    },
    {
      "cell_type": "code",
      "source": [
        "def demonstrate_clt(expressions, sample_size, n_samples):\n",
        "    means_list = []\n",
        "    for i in range(n_samples):\n",
        "        sample = np.random.choice(expressions, sample_size)\n",
        "        means_list.append(np.mean(sample)) \n",
        "\n",
        "    return means_list"
      ],
      "metadata": {
        "id": "liScG4k7qVtW"
      },
      "execution_count": null,
      "outputs": []
    },
    {
      "cell_type": "code",
      "source": [
        "# check using TMCC1 gene\n",
        "\n",
        "example_gene = \"TMCC1\"\n",
        "nk_TMCC1 = nk_cells_expression_data[example_gene]\n",
        "b_TMCC1 = b_cells_expression_data[example_gene]\n",
        "sample_size = 50\n",
        "n_samples = 200\n",
        "\n",
        "means_nk = demonstrate_clt(nk_TMCC1, sample_size, n_samples)\n",
        "means_b = demonstrate_clt(b_TMCC1, sample_size, n_samples)"
      ],
      "metadata": {
        "id": "2k5XjhXDXoP5"
      },
      "execution_count": null,
      "outputs": []
    },
    {
      "cell_type": "code",
      "source": [
        "means_df = pd.DataFrame(data={\"Means NK cells\":means_nk, \"Means B-cells\":means_b}, dtype=np.float64)\n",
        "means_df.head(5)"
      ],
      "metadata": {
        "colab": {
          "base_uri": "https://localhost:8080/",
          "height": 206
        },
        "id": "ruEsMJhxxmXu",
        "outputId": "8733592c-30b9-4114-febb-0a9d2c6b6901"
      },
      "execution_count": null,
      "outputs": [
        {
          "output_type": "execute_result",
          "data": {
            "text/plain": [
              "   Means NK cells  Means B-cells\n",
              "0       26.134431      28.481352\n",
              "1       32.088474      20.616761\n",
              "2       24.416137      31.362410\n",
              "3       28.280109      24.478880\n",
              "4       31.421472      26.343919"
            ],
            "text/html": [
              "\n",
              "  <div id=\"df-d903d2a7-4240-4b0a-82fd-d681c26e3918\">\n",
              "    <div class=\"colab-df-container\">\n",
              "      <div>\n",
              "<style scoped>\n",
              "    .dataframe tbody tr th:only-of-type {\n",
              "        vertical-align: middle;\n",
              "    }\n",
              "\n",
              "    .dataframe tbody tr th {\n",
              "        vertical-align: top;\n",
              "    }\n",
              "\n",
              "    .dataframe thead th {\n",
              "        text-align: right;\n",
              "    }\n",
              "</style>\n",
              "<table border=\"1\" class=\"dataframe\">\n",
              "  <thead>\n",
              "    <tr style=\"text-align: right;\">\n",
              "      <th></th>\n",
              "      <th>Means NK cells</th>\n",
              "      <th>Means B-cells</th>\n",
              "    </tr>\n",
              "  </thead>\n",
              "  <tbody>\n",
              "    <tr>\n",
              "      <th>0</th>\n",
              "      <td>26.134431</td>\n",
              "      <td>28.481352</td>\n",
              "    </tr>\n",
              "    <tr>\n",
              "      <th>1</th>\n",
              "      <td>32.088474</td>\n",
              "      <td>20.616761</td>\n",
              "    </tr>\n",
              "    <tr>\n",
              "      <th>2</th>\n",
              "      <td>24.416137</td>\n",
              "      <td>31.362410</td>\n",
              "    </tr>\n",
              "    <tr>\n",
              "      <th>3</th>\n",
              "      <td>28.280109</td>\n",
              "      <td>24.478880</td>\n",
              "    </tr>\n",
              "    <tr>\n",
              "      <th>4</th>\n",
              "      <td>31.421472</td>\n",
              "      <td>26.343919</td>\n",
              "    </tr>\n",
              "  </tbody>\n",
              "</table>\n",
              "</div>\n",
              "      <button class=\"colab-df-convert\" onclick=\"convertToInteractive('df-d903d2a7-4240-4b0a-82fd-d681c26e3918')\"\n",
              "              title=\"Convert this dataframe to an interactive table.\"\n",
              "              style=\"display:none;\">\n",
              "        \n",
              "  <svg xmlns=\"http://www.w3.org/2000/svg\" height=\"24px\"viewBox=\"0 0 24 24\"\n",
              "       width=\"24px\">\n",
              "    <path d=\"M0 0h24v24H0V0z\" fill=\"none\"/>\n",
              "    <path d=\"M18.56 5.44l.94 2.06.94-2.06 2.06-.94-2.06-.94-.94-2.06-.94 2.06-2.06.94zm-11 1L8.5 8.5l.94-2.06 2.06-.94-2.06-.94L8.5 2.5l-.94 2.06-2.06.94zm10 10l.94 2.06.94-2.06 2.06-.94-2.06-.94-.94-2.06-.94 2.06-2.06.94z\"/><path d=\"M17.41 7.96l-1.37-1.37c-.4-.4-.92-.59-1.43-.59-.52 0-1.04.2-1.43.59L10.3 9.45l-7.72 7.72c-.78.78-.78 2.05 0 2.83L4 21.41c.39.39.9.59 1.41.59.51 0 1.02-.2 1.41-.59l7.78-7.78 2.81-2.81c.8-.78.8-2.07 0-2.86zM5.41 20L4 18.59l7.72-7.72 1.47 1.35L5.41 20z\"/>\n",
              "  </svg>\n",
              "      </button>\n",
              "      \n",
              "  <style>\n",
              "    .colab-df-container {\n",
              "      display:flex;\n",
              "      flex-wrap:wrap;\n",
              "      gap: 12px;\n",
              "    }\n",
              "\n",
              "    .colab-df-convert {\n",
              "      background-color: #E8F0FE;\n",
              "      border: none;\n",
              "      border-radius: 50%;\n",
              "      cursor: pointer;\n",
              "      display: none;\n",
              "      fill: #1967D2;\n",
              "      height: 32px;\n",
              "      padding: 0 0 0 0;\n",
              "      width: 32px;\n",
              "    }\n",
              "\n",
              "    .colab-df-convert:hover {\n",
              "      background-color: #E2EBFA;\n",
              "      box-shadow: 0px 1px 2px rgba(60, 64, 67, 0.3), 0px 1px 3px 1px rgba(60, 64, 67, 0.15);\n",
              "      fill: #174EA6;\n",
              "    }\n",
              "\n",
              "    [theme=dark] .colab-df-convert {\n",
              "      background-color: #3B4455;\n",
              "      fill: #D2E3FC;\n",
              "    }\n",
              "\n",
              "    [theme=dark] .colab-df-convert:hover {\n",
              "      background-color: #434B5C;\n",
              "      box-shadow: 0px 1px 3px 1px rgba(0, 0, 0, 0.15);\n",
              "      filter: drop-shadow(0px 1px 2px rgba(0, 0, 0, 0.3));\n",
              "      fill: #FFFFFF;\n",
              "    }\n",
              "  </style>\n",
              "\n",
              "      <script>\n",
              "        const buttonEl =\n",
              "          document.querySelector('#df-d903d2a7-4240-4b0a-82fd-d681c26e3918 button.colab-df-convert');\n",
              "        buttonEl.style.display =\n",
              "          google.colab.kernel.accessAllowed ? 'block' : 'none';\n",
              "\n",
              "        async function convertToInteractive(key) {\n",
              "          const element = document.querySelector('#df-d903d2a7-4240-4b0a-82fd-d681c26e3918');\n",
              "          const dataTable =\n",
              "            await google.colab.kernel.invokeFunction('convertToInteractive',\n",
              "                                                     [key], {});\n",
              "          if (!dataTable) return;\n",
              "\n",
              "          const docLinkHtml = 'Like what you see? Visit the ' +\n",
              "            '<a target=\"_blank\" href=https://colab.research.google.com/notebooks/data_table.ipynb>data table notebook</a>'\n",
              "            + ' to learn more about interactive tables.';\n",
              "          element.innerHTML = '';\n",
              "          dataTable['output_type'] = 'display_data';\n",
              "          await google.colab.output.renderOutput(dataTable, element);\n",
              "          const docLink = document.createElement('div');\n",
              "          docLink.innerHTML = docLinkHtml;\n",
              "          element.appendChild(docLink);\n",
              "        }\n",
              "      </script>\n",
              "    </div>\n",
              "  </div>\n",
              "  "
            ]
          },
          "metadata": {},
          "execution_count": 57
        }
      ]
    },
    {
      "cell_type": "code",
      "source": [
        "sns.boxplot(data=means_df);"
      ],
      "metadata": {
        "colab": {
          "base_uri": "https://localhost:8080/",
          "height": 265
        },
        "id": "Bu2OaS58xF3_",
        "outputId": "fd67786b-7631-40f3-e8b1-4f5088fde90c"
      },
      "execution_count": null,
      "outputs": [
        {
          "output_type": "display_data",
          "data": {
            "text/plain": [
              "<Figure size 432x288 with 1 Axes>"
            ],
            "image/png": "[encoded data removed]"
          },
          "metadata": {
            "needs_background": "light"
          }
        }
      ]
    },
    {
      "cell_type": "code",
      "source": [
        "sns.histplot(means_nk, stat=\"density\");"
      ],
      "metadata": {
        "colab": {
          "base_uri": "https://localhost:8080/",
          "height": 265
        },
        "id": "puoU7k-ZaOhS",
        "outputId": "07939748-52af-4112-887e-fad2b63130a1"
      },
      "execution_count": null,
      "outputs": [
        {
          "output_type": "display_data",
          "data": {
            "text/plain": [
              "<Figure size 432x288 with 1 Axes>"
            ],
            "image/png": "[encoded data removed]"
          },
          "metadata": {
            "needs_background": "light"
          }
        }
      ]
    },
    {
      "cell_type": "code",
      "source": [
        "sns.histplot(means_b, stat=\"density\");"
      ],
      "metadata": {
        "colab": {
          "base_uri": "https://localhost:8080/",
          "height": 265
        },
        "id": "k5neHOYJbBe-",
        "outputId": "0670e0b1-8439-467a-b8e9-07b204fc07c3"
      },
      "execution_count": null,
      "outputs": [
        {
          "output_type": "display_data",
          "data": {
            "text/plain": [
              "<Figure size 432x288 with 1 Axes>"
            ],
            "image/png": "[encoded data removed]"
          },
          "metadata": {
            "needs_background": "light"
          }
        }
      ]
    },
    {
      "cell_type": "markdown",
      "source": [
        "По графикам с выбранными n_samples = 200 и sample_size = 50 мы не можем говорить о существенной разницей между nk-клетками и b-клетками."
      ],
      "metadata": {
        "id": "MU3TTr15bcw9"
      }
    },
    {
      "cell_type": "markdown",
      "source": [
        "А теперь посчитайте 95% доверительные интервалы для обоих распределений (примем тот факт, что средние распределены нормально для обоих клеточных типов) и скажите, отличается ли средняя экспрессия данного гена между клеточными типами?"
      ],
      "metadata": {
        "id": "dy8xJYbfa_1W"
      }
    },
    {
      "cell_type": "code",
      "source": [
        "def CI_95(data, mean_means):\n",
        "    se = np.std(data) / np.sqrt(len(data))\n",
        "    CI_lower = mean_means - 1.96 * se\n",
        "    CI_upper = mean_means + 1.96 * se\n",
        "    return (CI_lower, CI_upper)\n",
        "\n",
        "CI_b = CI_95(b_cells_expression_data[example_gene], np.mean(means_b))\n",
        "CI_nk = CI_95(nk_cells_expression_data[example_gene], np.mean(means_nk))\n",
        "\n",
        "print(f\"The confidence interval for B-cells is: {CI_b}\")\n",
        "print(f\"The confidence interval for NK-cells is: {CI_nk}\")\n"
      ],
      "metadata": {
        "id": "ZtEKz5jzZ65A",
        "colab": {
          "base_uri": "https://localhost:8080/"
        },
        "outputId": "b7e9e843-dd8c-47e5-d166-439775dca151"
      },
      "execution_count": null,
      "outputs": [
        {
          "output_type": "stream",
          "name": "stdout",
          "text": [
            "The confidence interval for B-cells is: (22.524714241358293, 29.617877313461715)\n",
            "The confidence interval for NK-cells is: (27.060979156629312, 34.206991958290686)\n"
          ]
        }
      ]
    },
    {
      "cell_type": "markdown",
      "source": [
        "## Задание 2\n",
        "\n",
        "**4 баллов**"
      ],
      "metadata": {
        "id": "ohXJ3B-TcwP1"
      }
    },
    {
      "cell_type": "markdown",
      "source": [
        "Вспомнили центральную предельную теорему и то, как считать доверительные интервалы в простом случае, теперь давайте воспользуемся библиотечной реализацией для того, чтобы протестировать уже все гены. "
      ],
      "metadata": {
        "id": "OZeMqL9KdCZW"
      }
    },
    {
      "cell_type": "code",
      "source": [
        "import scipy.stats as st"
      ],
      "metadata": {
        "id": "lWagSgzjabYZ"
      },
      "execution_count": null,
      "outputs": []
    },
    {
      "cell_type": "markdown",
      "source": [
        "Посчитаем доверительные интервалы для нашего демонстрационного гена в обоих клеточных типах:"
      ],
      "metadata": {
        "id": "8UF6p1vpekvX"
      }
    },
    {
      "cell_type": "code",
      "source": [
        "# B клетки\n",
        "st.t.interval(alpha=0.95, # 95% доверительный интервал\n",
        "              df=len(b_cells_expression_data[example_gene]) - 1, # число степеней свободы - 1\n",
        "              loc=np.mean(b_cells_expression_data[example_gene]), # Среднее\n",
        "              scale=st.sem(b_cells_expression_data[example_gene])) # Стандартная ошибка среднего"
      ],
      "metadata": {
        "colab": {
          "base_uri": "https://localhost:8080/"
        },
        "id": "6D37bTt5cyVm",
        "outputId": "9613f95a-5ba7-48c2-907a-441f3fa72447"
      },
      "execution_count": null,
      "outputs": [
        {
          "output_type": "execute_result",
          "data": {
            "text/plain": [
              "(23.420272072079296, 30.53767158632071)"
            ]
          },
          "metadata": {},
          "execution_count": 39
        }
      ]
    },
    {
      "cell_type": "code",
      "source": [
        "# NK клетки\n",
        "st.t.interval(alpha=0.95, # 95% доверительный интервал\n",
        "              df=len(nk_cells_expression_data[example_gene]) - 1, # число степеней свободы - 1\n",
        "              loc=np.mean(nk_cells_expression_data[example_gene]), # Среднее\n",
        "              scale=st.sem(nk_cells_expression_data[example_gene])) # Стандартная ошибка среднего"
      ],
      "metadata": {
        "colab": {
          "base_uri": "https://localhost:8080/"
        },
        "id": "fgUUKsMhcyfG",
        "outputId": "8aacec60-1752-49a9-d8b6-310d14637116"
      },
      "execution_count": null,
      "outputs": [
        {
          "output_type": "execute_result",
          "data": {
            "text/plain": [
              "(26.84610468807562, 34.01653451272438)"
            ]
          },
          "metadata": {},
          "execution_count": 40
        }
      ]
    },
    {
      "cell_type": "markdown",
      "source": [
        "Напишите функцию для проверки того, что доверительные интервалы пересекаются. На лекции мы тестировали гипотезы для равенства среднего выборки заданному числу и проверяли, попало ли оно в границы этого интервала или нет, если оно оказывалось за ними, то мы говорили, что средние отличаются. Здесь же мы имеем дело с двумя выборками, поэтому будем проверять, пересекаются ли доверительные интервалы, и, если нет, то говорить о том, что средние в выборках отличаются.\n",
        "\n",
        "```python\n",
        "def check_intervals_intersect(first_ci, second_ci):   \n",
        "\n",
        "    return are_intersect # True or False\n",
        "```"
      ],
      "metadata": {
        "id": "q60PntVDfVof"
      }
    },
    {
      "cell_type": "code",
      "source": [
        "def check_intervals_intersect(first_ci, second_ci):\n",
        "    first_ci = sorted(first_ci)\n",
        "    second_ci = sorted(second_ci)\n",
        "    if (second_ci[0] <= first_ci[1] <= second_ci[1]) or (first_ci[0] <= second_ci[1] <= first_ci[1]):\n",
        "        return True\n",
        "    else:\n",
        "        return False"
      ],
      "metadata": {
        "id": "iIYx9Pb9fO_q"
      },
      "execution_count": null,
      "outputs": []
    },
    {
      "cell_type": "markdown",
      "source": [
        "Теперь для каждого гена посчитайте доверительные интервалы в обоих клеточных типах, и проверьте, пересекаются ли они? Результаты можно добавлять в список, например:\n",
        "\n",
        "```python\n",
        "ci_test_results = [True, False, ..., True]\n",
        "```"
      ],
      "metadata": {
        "id": "2cpsVdR-gYkm"
      }
    },
    {
      "cell_type": "code",
      "source": [
        "def stat_ci(data, gene, alpha=0.95):\n",
        "    # NK клетки\n",
        "    ci = st.t.interval(alpha,\n",
        "              df=len(data[gene]) - 1,\n",
        "              loc=np.mean(data[gene]),\n",
        "              scale=st.sem(data[gene])) \n",
        "    return ci\n",
        "        \n",
        "common_genes = set(nk_cells_expression_data.columns).intersection(set(b_cells_expression_data))\n",
        "ci_test_results = [check_intervals_intersect(stat_ci(nk_cells_expression_data, gene), \n",
        "                                             stat_ci(b_cells_expression_data, gene)) for gene in common_genes]\n",
        "ci_test_results[1:20] # true if CIs are intersecting"
      ],
      "metadata": {
        "colab": {
          "base_uri": "https://localhost:8080/"
        },
        "id": "fKlibJ1Jn40C",
        "outputId": "e2802ccf-c2dc-44d4-b2a9-173a4060128c"
      },
      "execution_count": 63,
      "outputs": [
        {
          "output_type": "execute_result",
          "data": {
            "text/plain": [
              "[True,\n",
              " False,\n",
              " True,\n",
              " True,\n",
              " True,\n",
              " True,\n",
              " False,\n",
              " True,\n",
              " True,\n",
              " True,\n",
              " False,\n",
              " True,\n",
              " True,\n",
              " True,\n",
              " False,\n",
              " False,\n",
              " False,\n",
              " False,\n",
              " True]"
            ]
          },
          "metadata": {},
          "execution_count": 63
        }
      ]
    },
    {
      "cell_type": "markdown",
      "source": [
        "Попытайтесь оформить это в виде функции, которая будет принимать на вход две таблицы с экспрессиями и выдавать для каждого гена, значимо ли отличается его средняя экспрессия между клеточными типами.\n",
        "\n",
        "```python\n",
        "def check_dge_with_ci(first_table, second_table):\n",
        "    # dge - differential gene expression\n",
        "\n",
        "    return ci_test_results\n",
        "```"
      ],
      "metadata": {
        "id": "GTeBsVNHhpr9"
      }
    },
    {
      "cell_type": "code",
      "source": [
        "def check_dge_with_ci(first_table, second_table):\n",
        "    # dge - differential gene expression\n",
        "    common_genes = set(first_table.columns).intersection(set(second_table))\n",
        "    ci_test_results = dict()\n",
        "    for gene in common_genes:\n",
        "        # if intervals intersect --> difference is not significant\n",
        "        if check_intervals_intersect(stat_ci(first_table, gene), stat_ci(second_table, gene)):\n",
        "            ci_test_results[gene] = False\n",
        "        else:\n",
        "            ci_test_results[gene] = True\n",
        "    return ci_test_results\n"
      ],
      "metadata": {
        "id": "nxgCa0V-r8Xw"
      },
      "execution_count": 64,
      "outputs": []
    },
    {
      "cell_type": "code",
      "source": [
        "nk_b = check_dge_with_ci(nk_cells_expression_data, b_cells_expression_data)"
      ],
      "metadata": {
        "id": "TJBEzgpVnyli"
      },
      "execution_count": 65,
      "outputs": []
    },
    {
      "cell_type": "code",
      "source": [
        "{k: nk_b[k] for k in list(nk_b)[:10]}"
      ],
      "metadata": {
        "colab": {
          "base_uri": "https://localhost:8080/"
        },
        "id": "6AXNWkHXmvRp",
        "outputId": "c84d9b05-d091-425c-daba-08921b3feba6"
      },
      "execution_count": 66,
      "outputs": [
        {
          "output_type": "execute_result",
          "data": {
            "text/plain": [
              "{'MFAP4': False,\n",
              " 'C1orf168': False,\n",
              " 'CXCR6': True,\n",
              " 'ANO7': False,\n",
              " 'SLC16A2': False,\n",
              " 'AK8': False,\n",
              " 'NEK1': False,\n",
              " 'PITHD1': True,\n",
              " 'RTKN': False,\n",
              " 'SLC35F1': False}"
            ]
          },
          "metadata": {},
          "execution_count": 66
        }
      ]
    },
    {
      "cell_type": "markdown",
      "source": [
        "## Задание 3\n",
        "\n",
        "**4 баллов**"
      ],
      "metadata": {
        "id": "BTMrzw2Cjk8x"
      }
    },
    {
      "cell_type": "markdown",
      "source": [
        "Давайте теперь применим для той же задачи `z-критерий`. Будем считать, что в данном случае $\\alpha$ = 0.05, и если полученное `p-value` будет меньше, то экспрессия генов значимо отличается."
      ],
      "metadata": {
        "id": "Hg6BH7N-kilU"
      }
    },
    {
      "cell_type": "code",
      "source": [
        "from statsmodels.stats.weightstats import ztest"
      ],
      "metadata": {
        "id": "pfKgFrLCfPN5"
      },
      "execution_count": null,
      "outputs": []
    },
    {
      "cell_type": "code",
      "source": [
        "# Наш излюбленный ген\n",
        "z_stat, p_val = ztest(b_cells_expression_data[example_gene],\n",
        "    nk_cells_expression_data[example_gene])\n",
        "p_val"
      ],
      "metadata": {
        "colab": {
          "base_uri": "https://localhost:8080/"
        },
        "id": "8ws5c8kQcyxA",
        "outputId": "67ef8b26-27eb-492a-aeba-73f0608badb7"
      },
      "execution_count": null,
      "outputs": [
        {
          "output_type": "execute_result",
          "data": {
            "text/plain": [
              "0.17935507499860204"
            ]
          },
          "metadata": {},
          "execution_count": 21
        }
      ]
    },
    {
      "cell_type": "markdown",
      "source": [
        "Попытайтесь оформить это в виде функции, которая будет принимать на вход две таблицы с экспрессиями и выдавать для каждого гена, значимо ли отличается его средняя экспрессия между клеточными типами.\n",
        "\n",
        "```python\n",
        "def check_dge_with_ztest(first_table, second_table):\n",
        "    # dge - differential gene expression\n",
        "\n",
        "    return z_test_results\n",
        "```"
      ],
      "metadata": {
        "id": "jouFFsZGlWr8"
      }
    },
    {
      "cell_type": "code",
      "source": [
        "nk_cells_expression_data.dtypes.unique()"
      ],
      "metadata": {
        "colab": {
          "base_uri": "https://localhost:8080/"
        },
        "id": "ns-HH26ZsAc0",
        "outputId": "7083b793-9df0-4bc6-ba83-6e78e1c9fd4e"
      },
      "execution_count": null,
      "outputs": [
        {
          "output_type": "execute_result",
          "data": {
            "text/plain": [
              "array([dtype('float64')], dtype=object)"
            ]
          },
          "metadata": {},
          "execution_count": 46
        }
      ]
    },
    {
      "cell_type": "code",
      "source": [
        "b_cells_expression_data.dtypes.unique()"
      ],
      "metadata": {
        "colab": {
          "base_uri": "https://localhost:8080/"
        },
        "id": "MCneMosPs04G",
        "outputId": "14d90d88-8f89-45ac-abba-de776a2e2667"
      },
      "execution_count": null,
      "outputs": [
        {
          "output_type": "execute_result",
          "data": {
            "text/plain": [
              "array([dtype('float64')], dtype=object)"
            ]
          },
          "metadata": {},
          "execution_count": 47
        }
      ]
    },
    {
      "cell_type": "code",
      "source": [
        "def check_dge_with_ztest(first_table, second_table):\n",
        "    # dge - differential gene expression\n",
        "    alpha = 0.05\n",
        "    common_genes = set(first_table.columns).intersection(set(second_table))\n",
        "    z_test_results = dict()\n",
        "    for gene in common_genes:\n",
        "        z_stat, p_val = ztest(first_table[gene], second_table[gene])\n",
        "        z_test_results[gene] = p_val < alpha\n",
        "    return z_test_results"
      ],
      "metadata": {
        "id": "aXc720tmhNt7"
      },
      "execution_count": null,
      "outputs": []
    },
    {
      "cell_type": "code",
      "source": [
        "nk_b_ztest = check_dge_with_ztest(nk_cells_expression_data, b_cells_expression_data)\n",
        "{k: nk_b_ztest[k] for k in list(nk_b_ztest)[:10]}"
      ],
      "metadata": {
        "colab": {
          "base_uri": "https://localhost:8080/"
        },
        "id": "a1YOs3_kuTOd",
        "outputId": "a648b43d-0394-4e0e-89fa-efe08af184d4"
      },
      "execution_count": null,
      "outputs": [
        {
          "output_type": "execute_result",
          "data": {
            "text/plain": [
              "{'MFAP4': False,\n",
              " 'C1orf168': False,\n",
              " 'CXCR6': True,\n",
              " 'ANO7': False,\n",
              " 'SLC16A2': False,\n",
              " 'AK8': False,\n",
              " 'NEK1': False,\n",
              " 'PITHD1': True,\n",
              " 'RTKN': False,\n",
              " 'SLC35F1': False}"
            ]
          },
          "metadata": {},
          "execution_count": 49
        }
      ]
    },
    {
      "cell_type": "markdown",
      "source": [
        "## Задание 4\n",
        "\n",
        "**10 баллов**"
      ],
      "metadata": {
        "id": "TZpNj9EMlenZ"
      }
    },
    {
      "cell_type": "markdown",
      "source": [
        "Теперь пришла пора оформить все ваши старания в виде программы. Напишите программу, которая принимает на вход следующие аргуметры:\n",
        "\n",
        "1. `first_cell_type_expressions_path` &ndash; путь до таблицы с экспрессиями генов для одного клеточного типа;\n",
        "2. `second_cell_type_expressions_path` &ndash; путь до таблицы с экспрессиями генов для второго клеточного типа;\n",
        "3. `save_results_table` &ndash; название таблицы с результатами.\n",
        "\n",
        "Считывать аргументы можно любым удобным способом (например, `input`, `argparse`).\n",
        "\n",
        "Как читать данные при помощи пандаса мы уже знаем, осталось понять, как записывать результаты. Допустим, вы записывали результаты ваших тестов в списки, тогда создать пандасовский датафрейм можно следующим образом:"
      ],
      "metadata": {
        "id": "sqCB9SY9ljrn"
      }
    },
    {
      "cell_type": "code",
      "source": [
        "ci_test_results = [True, False, True]\n",
        "z_test_results = [True, True, True]\n",
        "\n",
        "# Опционально можно также сохранять p-value для z-критерия\n",
        "z_test_p_values = [0.004, 0.01, 0.0001]\n",
        "\n",
        "# Также сохраните разницу в средних экспрессиях между 1 и 2 таблицами для каждого гена,\n",
        "# чтобы было понять, уменьшается или увеличивается экспрессия гена\n",
        "mean_diff = [-10, 10, 0.5]\n",
        "\n",
        "# Созданим словарь {'название колонки': список_значений}\n",
        "results = {\n",
        "    \"ci_test_results\": ci_test_results,\n",
        "    \"z_test_results\": z_test_results,\n",
        "    \"z_test_p_values\": z_test_p_values,\n",
        "    \"mean_diff\": mean_diff\n",
        "}\n",
        "\n",
        "# Из словаря делаем датафрейм\n",
        "results = pd.DataFrame(results)\n",
        "results.head()"
      ],
      "metadata": {
        "colab": {
          "base_uri": "https://localhost:8080/",
          "height": 153
        },
        "id": "UK3kTYEBljMl",
        "outputId": "164a2f08-4909-4fa2-fee9-e77b2c3bf47d"
      },
      "execution_count": null,
      "outputs": [
        {
          "output_type": "execute_result",
          "data": {
            "text/plain": [
              "   ci_test_results  z_test_results  z_test_p_values  mean_diff\n",
              "0             True            True           0.0040      -10.0\n",
              "1            False            True           0.0100       10.0\n",
              "2             True            True           0.0001        0.5"
            ],
            "text/html": [
              "\n",
              "  <div id=\"df-f31aa3a4-d86c-405c-82d8-2fcdb1fb2c23\">\n",
              "    <div class=\"colab-df-container\">\n",
              "      <div>\n",
              "<style scoped>\n",
              "    .dataframe tbody tr th:only-of-type {\n",
              "        vertical-align: middle;\n",
              "    }\n",
              "\n",
              "    .dataframe tbody tr th {\n",
              "        vertical-align: top;\n",
              "    }\n",
              "\n",
              "    .dataframe thead th {\n",
              "        text-align: right;\n",
              "    }\n",
              "</style>\n",
              "<table border=\"1\" class=\"dataframe\">\n",
              "  <thead>\n",
              "    <tr style=\"text-align: right;\">\n",
              "      <th></th>\n",
              "      <th>ci_test_results</th>\n",
              "      <th>z_test_results</th>\n",
              "      <th>z_test_p_values</th>\n",
              "      <th>mean_diff</th>\n",
              "    </tr>\n",
              "  </thead>\n",
              "  <tbody>\n",
              "    <tr>\n",
              "      <th>0</th>\n",
              "      <td>True</td>\n",
              "      <td>True</td>\n",
              "      <td>0.0040</td>\n",
              "      <td>-10.0</td>\n",
              "    </tr>\n",
              "    <tr>\n",
              "      <th>1</th>\n",
              "      <td>False</td>\n",
              "      <td>True</td>\n",
              "      <td>0.0100</td>\n",
              "      <td>10.0</td>\n",
              "    </tr>\n",
              "    <tr>\n",
              "      <th>2</th>\n",
              "      <td>True</td>\n",
              "      <td>True</td>\n",
              "      <td>0.0001</td>\n",
              "      <td>0.5</td>\n",
              "    </tr>\n",
              "  </tbody>\n",
              "</table>\n",
              "</div>\n",
              "      <button class=\"colab-df-convert\" onclick=\"convertToInteractive('df-f31aa3a4-d86c-405c-82d8-2fcdb1fb2c23')\"\n",
              "              title=\"Convert this dataframe to an interactive table.\"\n",
              "              style=\"display:none;\">\n",
              "        \n",
              "  <svg xmlns=\"http://www.w3.org/2000/svg\" height=\"24px\"viewBox=\"0 0 24 24\"\n",
              "       width=\"24px\">\n",
              "    <path d=\"M0 0h24v24H0V0z\" fill=\"none\"/>\n",
              "    <path d=\"M18.56 5.44l.94 2.06.94-2.06 2.06-.94-2.06-.94-.94-2.06-.94 2.06-2.06.94zm-11 1L8.5 8.5l.94-2.06 2.06-.94-2.06-.94L8.5 2.5l-.94 2.06-2.06.94zm10 10l.94 2.06.94-2.06 2.06-.94-2.06-.94-.94-2.06-.94 2.06-2.06.94z\"/><path d=\"M17.41 7.96l-1.37-1.37c-.4-.4-.92-.59-1.43-.59-.52 0-1.04.2-1.43.59L10.3 9.45l-7.72 7.72c-.78.78-.78 2.05 0 2.83L4 21.41c.39.39.9.59 1.41.59.51 0 1.02-.2 1.41-.59l7.78-7.78 2.81-2.81c.8-.78.8-2.07 0-2.86zM5.41 20L4 18.59l7.72-7.72 1.47 1.35L5.41 20z\"/>\n",
              "  </svg>\n",
              "      </button>\n",
              "      \n",
              "  <style>\n",
              "    .colab-df-container {\n",
              "      display:flex;\n",
              "      flex-wrap:wrap;\n",
              "      gap: 12px;\n",
              "    }\n",
              "\n",
              "    .colab-df-convert {\n",
              "      background-color: #E8F0FE;\n",
              "      border: none;\n",
              "      border-radius: 50%;\n",
              "      cursor: pointer;\n",
              "      display: none;\n",
              "      fill: #1967D2;\n",
              "      height: 32px;\n",
              "      padding: 0 0 0 0;\n",
              "      width: 32px;\n",
              "    }\n",
              "\n",
              "    .colab-df-convert:hover {\n",
              "      background-color: #E2EBFA;\n",
              "      box-shadow: 0px 1px 2px rgba(60, 64, 67, 0.3), 0px 1px 3px 1px rgba(60, 64, 67, 0.15);\n",
              "      fill: #174EA6;\n",
              "    }\n",
              "\n",
              "    [theme=dark] .colab-df-convert {\n",
              "      background-color: #3B4455;\n",
              "      fill: #D2E3FC;\n",
              "    }\n",
              "\n",
              "    [theme=dark] .colab-df-convert:hover {\n",
              "      background-color: #434B5C;\n",
              "      box-shadow: 0px 1px 3px 1px rgba(0, 0, 0, 0.15);\n",
              "      filter: drop-shadow(0px 1px 2px rgba(0, 0, 0, 0.3));\n",
              "      fill: #FFFFFF;\n",
              "    }\n",
              "  </style>\n",
              "\n",
              "      <script>\n",
              "        const buttonEl =\n",
              "          document.querySelector('#df-f31aa3a4-d86c-405c-82d8-2fcdb1fb2c23 button.colab-df-convert');\n",
              "        buttonEl.style.display =\n",
              "          google.colab.kernel.accessAllowed ? 'block' : 'none';\n",
              "\n",
              "        async function convertToInteractive(key) {\n",
              "          const element = document.querySelector('#df-f31aa3a4-d86c-405c-82d8-2fcdb1fb2c23');\n",
              "          const dataTable =\n",
              "            await google.colab.kernel.invokeFunction('convertToInteractive',\n",
              "                                                     [key], {});\n",
              "          if (!dataTable) return;\n",
              "\n",
              "          const docLinkHtml = 'Like what you see? Visit the ' +\n",
              "            '<a target=\"_blank\" href=https://colab.research.google.com/notebooks/data_table.ipynb>data table notebook</a>'\n",
              "            + ' to learn more about interactive tables.';\n",
              "          element.innerHTML = '';\n",
              "          dataTable['output_type'] = 'display_data';\n",
              "          await google.colab.output.renderOutput(dataTable, element);\n",
              "          const docLink = document.createElement('div');\n",
              "          docLink.innerHTML = docLinkHtml;\n",
              "          element.appendChild(docLink);\n",
              "        }\n",
              "      </script>\n",
              "    </div>\n",
              "  </div>\n",
              "  "
            ]
          },
          "metadata": {},
          "execution_count": 48
        }
      ]
    },
    {
      "cell_type": "code",
      "source": [
        "def dd():\n",
        "    return 3, 2"
      ],
      "metadata": {
        "id": "29-htQv_aoxi"
      },
      "execution_count": 67,
      "outputs": []
    },
    {
      "cell_type": "code",
      "source": [
        "a, b = dd()\n",
        "a"
      ],
      "metadata": {
        "colab": {
          "base_uri": "https://localhost:8080/"
        },
        "id": "SP9f3MDHatQx",
        "outputId": "429d314e-7654-42db-8bbd-d38f9ba2714c"
      },
      "execution_count": 69,
      "outputs": [
        {
          "output_type": "execute_result",
          "data": {
            "text/plain": [
              "3"
            ]
          },
          "metadata": {},
          "execution_count": 69
        }
      ]
    },
    {
      "cell_type": "code",
      "source": [
        "import pandas as pd\n",
        "import numpy as np\n",
        "import matplotlib.pyplot as plt\n",
        "import seaborn as sns\n",
        "from statsmodels.stats.weightstats import ztest\n",
        "import scipy.stats as st\n",
        "\n",
        "\n",
        "def demonstrate_clt(expressions):\n",
        "    sample_size = len(expressions) // 5  # changable\n",
        "    n_samples = 1000  # changable\n",
        "    means_list = []\n",
        "    for i in range(n_samples):\n",
        "        sample = np.random.choice(expressions, sample_size)\n",
        "        means_list.append(np.mean(sample))\n",
        "\n",
        "    return means_list\n",
        "\n",
        "\n",
        "def hist(data, gene, id):\n",
        "    plt.figure()\n",
        "    graph_histogram = sns.histplot(data[gene], stat=\"density\")\n",
        "    graph_histogram = graph_histogram.get_figure()\n",
        "    graph_histogram.savefig(f\"{gene}_type{id}_histogram.png\")\n",
        "\n",
        "\n",
        "def boxplot(data1, data2, gene):\n",
        "    means1_gene = demonstrate_clt(data1[gene])\n",
        "    means2_gene = demonstrate_clt(data2[gene])\n",
        "    means_df = pd.DataFrame(data={\"Means first type\": means1_gene, \"Means second type\": means2_gene}, dtype=np.float64)\n",
        "    graph_boxplot = sns.boxplot(data=means_df)\n",
        "    fig3 = graph_boxplot.get_figure()\n",
        "    fig3.savefig(f\"{gene}_boxplot_means.png\")\n",
        "\n",
        "\n",
        "def plots(de_first, de_second, gene):\n",
        "    # histograms for the gene expression levels distribution\n",
        "    hist(de_first, gene, id=1)\n",
        "    hist(de_second, gene, id=2)\n",
        "\n",
        "    # boxplot for the means comparing two given datasets\n",
        "    boxplot(de_first, de_second, gene)\n",
        "\n",
        "\n",
        "def stat_ci(data, gene, alpha=0.95):\n",
        "    # NK клетки\n",
        "    ci = st.t.interval(alpha,\n",
        "                       df=len(data[gene]) - 1,\n",
        "                       loc=np.mean(data[gene]),\n",
        "                       scale=st.sem(data[gene]))\n",
        "    return ci\n",
        "\n",
        "\n",
        "def check_intervals_intersect(first_ci, second_ci):\n",
        "    first_ci = sorted(first_ci)\n",
        "    second_ci = sorted(second_ci)\n",
        "    if (second_ci[0] <= first_ci[1] <= second_ci[1]) or (first_ci[0] <= second_ci[1] <= first_ci[1]):\n",
        "        return True\n",
        "    else:\n",
        "        return False\n",
        "\n",
        "\n",
        "def check_dge_with_ci(first_table, second_table):\n",
        "    # dge - differential gene expression\n",
        "    common_genes = set(first_table.columns).intersection(set(second_table))\n",
        "    ci_test_results = dict()\n",
        "    for gene in common_genes:\n",
        "        # if intervals intersect --> difference is not significant\n",
        "        if check_intervals_intersect(stat_ci(first_table, gene), stat_ci(second_table, gene)):\n",
        "            ci_test_results[gene] = False\n",
        "        else:\n",
        "            ci_test_results[gene] = True\n",
        "    return ci_test_results\n",
        "\n",
        "\n",
        "def check_dge_with_ztest(first_table, second_table):\n",
        "    # dge - differential gene expression\n",
        "    alpha = 0.05\n",
        "    common_genes = set(first_table.columns).intersection(set(second_table))\n",
        "    z_test_results = []\n",
        "    p_values = []\n",
        "    for gene in common_genes:\n",
        "        z_stat, p_val = ztest(first_table[gene], second_table[gene])\n",
        "        p_values.append(p_val)\n",
        "        z_test_results.append(p_val < alpha)\n",
        "    return z_test_results, p_values\n",
        "\n",
        "\n",
        "if __name__ == '__main__':\n",
        "    first_cell_type_expressions_path = input(\"Enter the path to the type-1 data: \")\n",
        "    second_cell_type_expressions_path = input(\"Enter the path to the type-2 data: \")\n",
        "    save_results_table = input(\"How to name the output file? \")\n",
        "    # downloading the data\n",
        "    first_expr = pd.read_csv(first_cell_type_expressions_path, index_col=0)\n",
        "    second_expr = pd.read_csv(second_cell_type_expressions_path, index_col=0)\n",
        "\n",
        "    # filling na with means if there are any\n",
        "    if first_expr.isnull().values.any():\n",
        "        first_expr.fillna(first_expr, inplace=True)\n",
        "    if second_expr.isnull().values.any():\n",
        "        second_expr.fillna(second_expr, inplace=True)\n",
        "\n",
        "    # plotting\n",
        "    to_plot_bool = input(\"Do you want to view a plot histograms and a plot for means of some genes? (y/n) \")\n",
        "    if to_plot_bool == \"y\":\n",
        "        genes = input(\"Enter names of the genes (a, b, c): \").split(\", \")\n",
        "        for gene in genes:\n",
        "            plots(first_expr, second_expr, gene)\n",
        "        print(\"Check the current folder for the plots!\")\n",
        "\n",
        "    # confidencse intervals check\n",
        "    ci_test_results = check_dge_with_ci(first_expr, second_expr)\n",
        "\n",
        "    # z-test check\n",
        "    z_test_results, z_test_p_values = check_dge_with_ztest(first_expr, second_expr)\n",
        "\n",
        "    # difference of means\n",
        "    mean_diff = first_expr.mean(axis=0) - second_expr.mean(axis=0)\n",
        "\n",
        "    results = {\n",
        "        \"ci_test_results\": ci_test_results,\n",
        "        \"z_test_results\": z_test_results,\n",
        "        \"z_test_p_values\": z_test_p_values,\n",
        "        \"mean_diff\": mean_diff}\n",
        "\n",
        "    results_df = pd.DataFrame(results)\n",
        "    results_df.to_csv(f\"{save_results_table}.csv\")\n",
        "    print(f\"Thank you for the patience, you can find your results in the {save_results_table}.csv file!\")\n",
        "\n"
      ],
      "metadata": {
        "id": "eUuNnFe4vvCV"
      },
      "execution_count": null,
      "outputs": []
    },
    {
      "cell_type": "markdown",
      "source": [
        "## Задание 5\n",
        "\n",
        "**0.5 баллов (доп.)**\n",
        "\n",
        "В онлайне сложно знакомиться, а особенно сейчас. Созвонитесь с кем-то из других студентов и прикрипите сюда скрин вашего созвона. Можно коротко описать, о чем вы говорили)"
      ],
      "metadata": {
        "id": "AnjRiJBtqbCu"
      }
    },
    {
      "cell_type": "code",
      "source": [],
      "metadata": {
        "id": "5ZF0gOD-rSX_"
      },
      "execution_count": null,
      "outputs": []
    }
  ]
}